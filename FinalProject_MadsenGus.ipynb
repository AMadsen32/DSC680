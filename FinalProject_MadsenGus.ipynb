{
 "cells": [
  {
   "cell_type": "code",
   "execution_count": 1,
   "metadata": {},
   "outputs": [],
   "source": [
    "# Importing steps \n",
    "\n",
    "import requests, json"
   ]
  },
  {
   "cell_type": "code",
   "execution_count": 2,
   "metadata": {},
   "outputs": [],
   "source": [
    "# Assigning unique API key from my Open Weather profile\n",
    "\n",
    "api_key = \"d6691aab9c7c7518a0be0a56bfb8660c\""
   ]
  },
  {
   "cell_type": "code",
   "execution_count": 3,
   "metadata": {},
   "outputs": [],
   "source": [
    "# Using the URL from the Open Weather website\n",
    "\n",
    "base_url = \"http://api.openweathermap.org/data/2.5/weather?\""
   ]
  },
  {
   "cell_type": "code",
   "execution_count": 4,
   "metadata": {},
   "outputs": [
    {
     "name": "stdout",
     "output_type": "stream",
     "text": [
      "Enter city name : Grand Rapids\n"
     ]
    }
   ],
   "source": [
    "city_name = input(\"Enter the name of a city : \")"
   ]
  },
  {
   "cell_type": "code",
   "execution_count": 5,
   "metadata": {},
   "outputs": [],
   "source": [
    "complete_url = base_url + \"appid=\" + api_key + \"&q=\" + city_name"
   ]
  },
  {
   "cell_type": "code",
   "execution_count": 6,
   "metadata": {},
   "outputs": [],
   "source": [
    "response = requests.get(complete_url)"
   ]
  },
  {
   "cell_type": "code",
   "execution_count": 7,
   "metadata": {},
   "outputs": [],
   "source": [
    "x = response.json() \n",
    "  "
   ]
  },
  {
   "cell_type": "code",
   "execution_count": 9,
   "metadata": {},
   "outputs": [
    {
     "name": "stdout",
     "output_type": "stream",
     "text": [
      " Temperature (in kelvin unit) = 269.53\n",
      " atmospheric pressure (in hPa unit) = 1020\n",
      " humidity (in percentage) = 67\n",
      " description = clear sky\n"
     ]
    }
   ],
   "source": [
    "if x[\"cod\"] != \"404\":\n",
    "    y = x[\"main\"]\n",
    "    current_temperature = y[\"temp\"]\n",
    "    current_pressure = y[\"pressure\"] \n",
    "    current_humidiy = y[\"humidity\"]\n",
    "    z = x[\"weather\"]\n",
    "    weather_description = z[0][\"description\"] \n",
    "    print(\" Temperature (as Kelvin units) = \" +\n",
    "                    str(current_temperature) + \n",
    "          \"\\n atmospheric pressure (in units of HPA) = \" +\n",
    "                    str(current_pressure) +\n",
    "          \"\\n humidity (as a percentage) = \" +\n",
    "                    str(current_humidiy) +\n",
    "          \"\\n description = \" +\n",
    "                    str(weather_description)) \n",
    "else: \n",
    "    print(\" City Not Found \")"
   ]
  },
  {
   "cell_type": "code",
   "execution_count": null,
   "metadata": {},
   "outputs": [],
   "source": []
  }
 ],
 "metadata": {
  "kernelspec": {
   "display_name": "Python 3",
   "language": "python",
   "name": "python3"
  },
  "language_info": {
   "codemirror_mode": {
    "name": "ipython",
    "version": 3
   },
   "file_extension": ".py",
   "mimetype": "text/x-python",
   "name": "python",
   "nbconvert_exporter": "python",
   "pygments_lexer": "ipython3",
   "version": "3.7.3"
  }
 },
 "nbformat": 4,
 "nbformat_minor": 2
}
