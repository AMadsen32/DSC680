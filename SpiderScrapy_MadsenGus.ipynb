{
 "cells": [
  {
   "cell_type": "code",
   "execution_count": null,
   "metadata": {},
   "outputs": [],
   "source": [
    "import scrapy\n",
    "from emojispider.items import EmojiSpiderItem\n",
    "\n",
    "class EmoSpider(scrapy.Spider):\n",
    "    name = 'emo'\n",
    "    allowed_domains = ['emoji-cheat-sheet.com']\n",
    "    start_urls = [\n",
    "    'http://www.emoji-cheat-sheet.com/',\n",
    "    ]\n",
    "    def parse(self, response):\n",
    "        self.log('A response from %s just arrived!' % response.url)"
   ]
  },
  {
   "cell_type": "code",
   "execution_count": null,
   "metadata": {},
   "outputs": [],
   "source": [
    "fetch('http://www.emoji-cheat-sheet.com/')"
   ]
  },
  {
   "cell_type": "code",
   "execution_count": null,
   "metadata": {},
   "outputs": [],
   "source": [
    "response.url\n",
    "response.status\n",
    "response.headers"
   ]
  },
  {
   "cell_type": "code",
   "execution_count": null,
   "metadata": {},
   "outputs": [],
   "source": [
    "import scrapy\n",
    "from scrapyspider.items import EmojiSpiderItem"
   ]
  },
  {
   "cell_type": "code",
   "execution_count": null,
   "metadata": {},
   "outputs": [],
   "source": [
    "class EmoSpider(scrapy.Spider):\n",
    "    name = 'emo'\n",
    "    allowed_domains = ['emoji-cheat-sheet.com']\n",
    "    start_urls = [\n",
    "        'http://www.emoji-cheat-sheet.com/',\n",
    "]"
   ]
  },
  {
   "cell_type": "code",
   "execution_count": null,
   "metadata": {},
   "outputs": [],
   "source": [
    "def parse(self, response):\n",
    "    headers = response.xpath('//h2|//h3')\n",
    "    lists = response.xpath('//ul')\n",
    "    all_items = []\n",
    "    for header, list_cont in zip(headers, lists):\n",
    "        section = header.xpath('text()').extract()[0]\n",
    "        for li in list_cont.xpath('li'):\n",
    "        item = EmojiSpiderItem()\n",
    "        item['section'] = section\n",
    "        spans = li.xpath('div/span')\n",
    "        if len(spans):\n",
    "    link = spans[0].xpath('@data-src').extract()\n",
    "        if link:\n",
    "            item['emoji_link'] = response.url + link[0]\n",
    "            handle_code = spans[1].xpath('text()').extract()\n",
    "        else:\n",
    "            handle_code = li.xpath('div/text()').extract()\n",
    "        if handle_code:\n",
    "            item['emoji_handle'] = handle_code[0]\n",
    "        all_items.append(item)\n",
    "return all_items"
   ]
  },
  {
   "cell_type": "code",
   "execution_count": null,
   "metadata": {},
   "outputs": [],
   "source": [
    "import scrapy\n",
    "\n",
    "class EmojiSpiderItem(scrapy.Item):\n",
    "    emoji_handle = scrapy.Field()\n",
    "    emoji_link = scrapy.Field()\n",
    "    section = scrapy.Field()\n",
    "    \n",
    "class PythonPackageItem(scrapy.Item):\n",
    "package_name = scrapy.Field()\n",
    "version_number = scrapy.Field()\n",
    "package_downloads = scrapy.Field()\n",
    "package_page = scrapy.Field()\n",
    "package_short_description = scrapy.Field()\n",
    "home_page = scrapy.Field()\n",
    "python_versions = scrapy.Field()\n",
    "last_month_downloads = scrapy.Field()"
   ]
  }
 ],
 "metadata": {
  "kernelspec": {
   "display_name": "Python 3",
   "language": "python",
   "name": "python3"
  },
  "language_info": {
   "codemirror_mode": {
    "name": "ipython",
    "version": 3
   },
   "file_extension": ".py",
   "mimetype": "text/x-python",
   "name": "python",
   "nbconvert_exporter": "python",
   "pygments_lexer": "ipython3",
   "version": "3.7.3"
  }
 },
 "nbformat": 4,
 "nbformat_minor": 2
}
